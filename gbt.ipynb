{
 "cells": [
  {
   "cell_type": "markdown",
   "metadata": {},
   "source": [
    "# Gradient Boosted Trees for graph data\n",
    "\n",
    "course: pv056\n",
    "\n",
    "name: Marek Kadlčík\n",
    "\n",
    "učo: 485294\n"
   ]
  },
  {
   "cell_type": "code",
   "execution_count": 13,
   "metadata": {},
   "outputs": [],
   "source": [
    "from copy import copy\n",
    "from typing import Dict\n",
    "\n",
    "import numpy as np\n",
    "import pandas as pd\n",
    "import rdkit\n",
    "import torch\n",
    "import torch_geometric as pyg\n",
    "\n",
    "from catboost import CatBoostClassifier\n",
    "from rdkit.Chem import MACCSkeys\n",
    "from rdkit import RDLogger\n",
    "\n",
    "from sklearn.utils.class_weight import compute_class_weight\n",
    "from sklearn.metrics import (\n",
    "    accuracy_score,\n",
    "    recall_score,\n",
    "    precision_score,\n",
    "    precision_recall_curve,\n",
    "    auc,\n",
    "    roc_auc_score,\n",
    "    f1_score,\n",
    ")\n"
   ]
  },
  {
   "cell_type": "markdown",
   "metadata": {},
   "source": [
    "## Loading data\n",
    "\n",
    "Data is loaded again from torch_geometric, to ensure consistent train-test split with the neural method."
   ]
  },
  {
   "cell_type": "code",
   "execution_count": 14,
   "metadata": {},
   "outputs": [
    {
     "name": "stdout",
     "output_type": "stream",
     "text": [
      "preparing: lipo 4200\n",
      "preparing: hiv 41127\n",
      "preparing: bbbp 2039\n",
      "preparing: clintox 1478\n",
      "preparing: tox21 6549\n"
     ]
    }
   ],
   "source": [
    "def transform_lipo(sample: pyg.data.Data) -> pyg.data.Data:\n",
    "    sample = copy(sample)\n",
    "    sample.y = (sample.y > 3.5).float().squeeze()\n",
    "    return sample\n",
    "\n",
    "def transform_hiv(sample: pyg.data.Data) -> pyg.data.Data:\n",
    "    sample = copy(sample)\n",
    "    sample.y = sample.y.squeeze()\n",
    "    return sample\n",
    "\n",
    "def transform_bppp(sample: pyg.data.Data) -> pyg.data.Data:\n",
    "    sample = copy(sample)\n",
    "    sample.y = sample.y.squeeze()\n",
    "    return sample\n",
    "\n",
    "def transform_tox21(sample: pyg.data.Data) -> pyg.data.Data:\n",
    "    sample = copy(sample)\n",
    "    sample.y = sample.y.squeeze()[2]\n",
    "    return sample\n",
    "\n",
    "def transform_clintox(sample: pyg.data.Data) -> pyg.data.Data:\n",
    "    sample = copy(sample)\n",
    "    sample.y = sample.y.squeeze()[0]\n",
    "    return sample\n",
    "\n",
    "\n",
    "def is_y_not_na(sample: pyg.data.Data) -> bool:\n",
    "    return not torch.isnan(sample.y)\n",
    "\n",
    "transforms = {\n",
    "    \"lipo\": transform_lipo,\n",
    "    \"hiv\": transform_hiv,\n",
    "    \"bbbp\": transform_bppp,\n",
    "    \"clintox\": transform_clintox,\n",
    "    \"tox21\": transform_tox21,\n",
    "}\n",
    "\n",
    "datasets = {}\n",
    "\n",
    "for name, transform in transforms.items():\n",
    "    print(\"preparing:\", name, end=\" \")\n",
    "    data = pyg.datasets.MoleculeNet(\"./data/\", name)\n",
    "    data = map(transform, data)\n",
    "    data = filter(is_y_not_na, data)\n",
    "    data = pd.Series(data)\n",
    "    datasets[name] = data\n",
    "\n",
    "    for i in range(100):\n",
    "        sample = data[i]\n",
    "        assert sample.y.shape == tuple()\n",
    "        assert sample.y.dtype == torch.float32\n",
    "        assert any([\n",
    "            torch.isclose(sample.y, torch.tensor(0.0)),\n",
    "            torch.isclose(sample.y, torch.tensor(1.0))\n",
    "        ])\n",
    "    \n",
    "    print(len(data))\n",
    "\n",
    "del data"
   ]
  },
  {
   "cell_type": "markdown",
   "metadata": {},
   "source": [
    "## Preprocessing\n",
    "\n",
    "I will use the smiles string from the dataset. Smiles is a string lossless representation of molecular structure and we can reconstruct a molecule from it. Then I use rdkit to generate MACCS Keys fingerprint. Molecular fingerprinting is a traditional way of computing feature vectors from molecules. MACCS Key contains 166 binary variables."
   ]
  },
  {
   "cell_type": "code",
   "execution_count": 15,
   "metadata": {},
   "outputs": [],
   "source": [
    "def smiles2fingerprint(smiles: str) -> np.ndarray:\n",
    "    mol = rdkit.Chem.MolFromSmiles(smiles)\n",
    "    bits = MACCSkeys.GenMACCSKeys(mol)\n",
    "    return np.frombuffer(bytes(bits.ToBitString(), 'utf-8'), 'u1') - ord('0')"
   ]
  },
  {
   "cell_type": "code",
   "execution_count": 16,
   "metadata": {},
   "outputs": [],
   "source": [
    "def prepare_dataset(data):\n",
    "    train_split = np.random.default_rng(seed=0).uniform(0, 1, size=len(data))\n",
    "\n",
    "    # rdkit gives a few warnings when computing the fingerprints\n",
    "    # on some molecules, but there is not much one can do about it\n",
    "    RDLogger.DisableLog('rdApp.*')\n",
    "    df = pd.DataFrame({\n",
    "        \"smiles\": [mol.smiles for mol in data],\n",
    "        \"x\": [smiles2fingerprint(mol.smiles) for mol in data],\n",
    "        \"y\": [mol.y.numpy().ravel().item() for mol in data]\n",
    "    }).set_index(\"smiles\")\n",
    "    RDLogger.EnableLog('rdApp.*')\n",
    "\n",
    "    df_train = df.iloc[train_split < 0.8]\n",
    "    df_valid = df.iloc[(train_split < 0.9) & (train_split >= 0.8)]\n",
    "    df_tests = df.iloc[train_split > 0.9]\n",
    "\n",
    "    return df_train, df_valid, df_tests"
   ]
  },
  {
   "cell_type": "markdown",
   "metadata": {},
   "source": [
    "## Metrics\n",
    "\n",
    "Again, the same set of metrics as in neural method. The interesting for us are area under ROC curve and area under precision-recall curve."
   ]
  },
  {
   "cell_type": "code",
   "execution_count": 17,
   "metadata": {},
   "outputs": [],
   "source": [
    "def compute_metrics(model, df, threshold) -> Dict[str, float]:\n",
    "    pred_probs = model.predict_proba(np.stack(df.x))[:,1]\n",
    "    pred = pred_probs > threshold\n",
    "    true = df.y\n",
    "\n",
    "    precisions, recalls, _ = precision_recall_curve(true, pred_probs)\n",
    "    return {\n",
    "        \"accuracy\": accuracy_score(true, pred),\n",
    "        \"recall\": recall_score(true, pred),\n",
    "        \"precision\": precision_score(true, pred),\n",
    "        \"f1\": f1_score(true, pred),\n",
    "        \"roc_auc\": roc_auc_score(true, pred_probs),\n",
    "        \"pr_auc\": auc(recalls, precisions),\n",
    "    }"
   ]
  },
  {
   "cell_type": "markdown",
   "metadata": {},
   "source": [
    "## Training\n",
    "\n",
    "I chose CatBoost as a nonneural method. It is a popular implementation of gradient boosted trees, has GPU acceleration and has well-thought-out choice of default parameters."
   ]
  },
  {
   "cell_type": "code",
   "execution_count": 20,
   "metadata": {},
   "outputs": [
    {
     "name": "stdout",
     "output_type": "stream",
     "text": [
      "\n"
     ]
    },
    {
     "data": {
      "text/markdown": [
       "### lipo"
      ],
      "text/plain": [
       "<IPython.core.display.Markdown object>"
      ]
     },
     "metadata": {},
     "output_type": "display_data"
    },
    {
     "name": "stdout",
     "output_type": "stream",
     "text": [
      "training.\n",
      "class weights: [0.56835871 4.15717822]\n"
     ]
    },
    {
     "data": {
      "text/html": [
       "<div>\n",
       "<style scoped>\n",
       "    .dataframe tbody tr th:only-of-type {\n",
       "        vertical-align: middle;\n",
       "    }\n",
       "\n",
       "    .dataframe tbody tr th {\n",
       "        vertical-align: top;\n",
       "    }\n",
       "\n",
       "    .dataframe thead th {\n",
       "        text-align: right;\n",
       "    }\n",
       "</style>\n",
       "<table border=\"1\" class=\"dataframe\">\n",
       "  <thead>\n",
       "    <tr style=\"text-align: right;\">\n",
       "      <th></th>\n",
       "      <th>train</th>\n",
       "      <th>valid</th>\n",
       "      <th>tests</th>\n",
       "    </tr>\n",
       "  </thead>\n",
       "  <tbody>\n",
       "    <tr>\n",
       "      <th>accuracy</th>\n",
       "      <td>0.870</td>\n",
       "      <td>0.792</td>\n",
       "      <td>0.786</td>\n",
       "    </tr>\n",
       "    <tr>\n",
       "      <th>recall</th>\n",
       "      <td>0.973</td>\n",
       "      <td>0.638</td>\n",
       "      <td>0.587</td>\n",
       "    </tr>\n",
       "    <tr>\n",
       "      <th>precision</th>\n",
       "      <td>0.481</td>\n",
       "      <td>0.339</td>\n",
       "      <td>0.293</td>\n",
       "    </tr>\n",
       "    <tr>\n",
       "      <th>f1</th>\n",
       "      <td>0.644</td>\n",
       "      <td>0.443</td>\n",
       "      <td>0.391</td>\n",
       "    </tr>\n",
       "    <tr>\n",
       "      <th>roc_auc</th>\n",
       "      <td>0.975</td>\n",
       "      <td>0.826</td>\n",
       "      <td>0.784</td>\n",
       "    </tr>\n",
       "    <tr>\n",
       "      <th>pr_auc</th>\n",
       "      <td>0.845</td>\n",
       "      <td>0.381</td>\n",
       "      <td>0.449</td>\n",
       "    </tr>\n",
       "  </tbody>\n",
       "</table>\n",
       "</div>"
      ],
      "text/plain": [
       "           train  valid  tests\n",
       "accuracy   0.870  0.792  0.786\n",
       "recall     0.973  0.638  0.587\n",
       "precision  0.481  0.339  0.293\n",
       "f1         0.644  0.443  0.391\n",
       "roc_auc    0.975  0.826  0.784\n",
       "pr_auc     0.845  0.381  0.449"
      ]
     },
     "metadata": {},
     "output_type": "display_data"
    },
    {
     "data": {
      "text/markdown": [
       "### hiv"
      ],
      "text/plain": [
       "<IPython.core.display.Markdown object>"
      ]
     },
     "metadata": {},
     "output_type": "display_data"
    },
    {
     "name": "stdout",
     "output_type": "stream",
     "text": [
      "training.\n",
      "class weights: [ 0.51825277 14.19655172]\n"
     ]
    },
    {
     "data": {
      "text/html": [
       "<div>\n",
       "<style scoped>\n",
       "    .dataframe tbody tr th:only-of-type {\n",
       "        vertical-align: middle;\n",
       "    }\n",
       "\n",
       "    .dataframe tbody tr th {\n",
       "        vertical-align: top;\n",
       "    }\n",
       "\n",
       "    .dataframe thead th {\n",
       "        text-align: right;\n",
       "    }\n",
       "</style>\n",
       "<table border=\"1\" class=\"dataframe\">\n",
       "  <thead>\n",
       "    <tr style=\"text-align: right;\">\n",
       "      <th></th>\n",
       "      <th>train</th>\n",
       "      <th>valid</th>\n",
       "      <th>tests</th>\n",
       "    </tr>\n",
       "  </thead>\n",
       "  <tbody>\n",
       "    <tr>\n",
       "      <th>accuracy</th>\n",
       "      <td>0.850</td>\n",
       "      <td>0.842</td>\n",
       "      <td>0.837</td>\n",
       "    </tr>\n",
       "    <tr>\n",
       "      <th>recall</th>\n",
       "      <td>0.768</td>\n",
       "      <td>0.587</td>\n",
       "      <td>0.664</td>\n",
       "    </tr>\n",
       "    <tr>\n",
       "      <th>precision</th>\n",
       "      <td>0.160</td>\n",
       "      <td>0.132</td>\n",
       "      <td>0.122</td>\n",
       "    </tr>\n",
       "    <tr>\n",
       "      <th>f1</th>\n",
       "      <td>0.265</td>\n",
       "      <td>0.216</td>\n",
       "      <td>0.206</td>\n",
       "    </tr>\n",
       "    <tr>\n",
       "      <th>roc_auc</th>\n",
       "      <td>0.892</td>\n",
       "      <td>0.776</td>\n",
       "      <td>0.793</td>\n",
       "    </tr>\n",
       "    <tr>\n",
       "      <th>pr_auc</th>\n",
       "      <td>0.397</td>\n",
       "      <td>0.310</td>\n",
       "      <td>0.315</td>\n",
       "    </tr>\n",
       "  </tbody>\n",
       "</table>\n",
       "</div>"
      ],
      "text/plain": [
       "           train  valid  tests\n",
       "accuracy   0.850  0.842  0.837\n",
       "recall     0.768  0.587  0.664\n",
       "precision  0.160  0.132  0.122\n",
       "f1         0.265  0.216  0.206\n",
       "roc_auc    0.892  0.776  0.793\n",
       "pr_auc     0.397  0.310  0.315"
      ]
     },
     "metadata": {},
     "output_type": "display_data"
    },
    {
     "data": {
      "text/markdown": [
       "### bbbp"
      ],
      "text/plain": [
       "<IPython.core.display.Markdown object>"
      ]
     },
     "metadata": {},
     "output_type": "display_data"
    },
    {
     "name": "stdout",
     "output_type": "stream",
     "text": [
      "training.\n",
      "class weights: [2.15159574 0.65136876]\n"
     ]
    },
    {
     "data": {
      "text/html": [
       "<div>\n",
       "<style scoped>\n",
       "    .dataframe tbody tr th:only-of-type {\n",
       "        vertical-align: middle;\n",
       "    }\n",
       "\n",
       "    .dataframe tbody tr th {\n",
       "        vertical-align: top;\n",
       "    }\n",
       "\n",
       "    .dataframe thead th {\n",
       "        text-align: right;\n",
       "    }\n",
       "</style>\n",
       "<table border=\"1\" class=\"dataframe\">\n",
       "  <thead>\n",
       "    <tr style=\"text-align: right;\">\n",
       "      <th></th>\n",
       "      <th>train</th>\n",
       "      <th>valid</th>\n",
       "      <th>tests</th>\n",
       "    </tr>\n",
       "  </thead>\n",
       "  <tbody>\n",
       "    <tr>\n",
       "      <th>accuracy</th>\n",
       "      <td>0.941</td>\n",
       "      <td>0.857</td>\n",
       "      <td>0.853</td>\n",
       "    </tr>\n",
       "    <tr>\n",
       "      <th>recall</th>\n",
       "      <td>0.938</td>\n",
       "      <td>0.898</td>\n",
       "      <td>0.863</td>\n",
       "    </tr>\n",
       "    <tr>\n",
       "      <th>precision</th>\n",
       "      <td>0.985</td>\n",
       "      <td>0.904</td>\n",
       "      <td>0.946</td>\n",
       "    </tr>\n",
       "    <tr>\n",
       "      <th>f1</th>\n",
       "      <td>0.961</td>\n",
       "      <td>0.901</td>\n",
       "      <td>0.903</td>\n",
       "    </tr>\n",
       "    <tr>\n",
       "      <th>roc_auc</th>\n",
       "      <td>0.985</td>\n",
       "      <td>0.905</td>\n",
       "      <td>0.907</td>\n",
       "    </tr>\n",
       "    <tr>\n",
       "      <th>pr_auc</th>\n",
       "      <td>0.995</td>\n",
       "      <td>0.955</td>\n",
       "      <td>0.972</td>\n",
       "    </tr>\n",
       "  </tbody>\n",
       "</table>\n",
       "</div>"
      ],
      "text/plain": [
       "           train  valid  tests\n",
       "accuracy   0.941  0.857  0.853\n",
       "recall     0.938  0.898  0.863\n",
       "precision  0.985  0.904  0.946\n",
       "f1         0.961  0.901  0.903\n",
       "roc_auc    0.985  0.905  0.907\n",
       "pr_auc     0.995  0.955  0.972"
      ]
     },
     "metadata": {},
     "output_type": "display_data"
    },
    {
     "data": {
      "text/markdown": [
       "### clintox"
      ],
      "text/plain": [
       "<IPython.core.display.Markdown object>"
      ]
     },
     "metadata": {},
     "output_type": "display_data"
    },
    {
     "name": "stdout",
     "output_type": "stream",
     "text": [
      "training.\n",
      "class weights: [7.18518519 0.53739612]\n"
     ]
    },
    {
     "data": {
      "text/html": [
       "<div>\n",
       "<style scoped>\n",
       "    .dataframe tbody tr th:only-of-type {\n",
       "        vertical-align: middle;\n",
       "    }\n",
       "\n",
       "    .dataframe tbody tr th {\n",
       "        vertical-align: top;\n",
       "    }\n",
       "\n",
       "    .dataframe thead th {\n",
       "        text-align: right;\n",
       "    }\n",
       "</style>\n",
       "<table border=\"1\" class=\"dataframe\">\n",
       "  <thead>\n",
       "    <tr style=\"text-align: right;\">\n",
       "      <th></th>\n",
       "      <th>train</th>\n",
       "      <th>valid</th>\n",
       "      <th>tests</th>\n",
       "    </tr>\n",
       "  </thead>\n",
       "  <tbody>\n",
       "    <tr>\n",
       "      <th>accuracy</th>\n",
       "      <td>0.812</td>\n",
       "      <td>0.822</td>\n",
       "      <td>0.814</td>\n",
       "    </tr>\n",
       "    <tr>\n",
       "      <th>recall</th>\n",
       "      <td>0.801</td>\n",
       "      <td>0.827</td>\n",
       "      <td>0.813</td>\n",
       "    </tr>\n",
       "    <tr>\n",
       "      <th>precision</th>\n",
       "      <td>0.997</td>\n",
       "      <td>0.985</td>\n",
       "      <td>0.991</td>\n",
       "    </tr>\n",
       "    <tr>\n",
       "      <th>f1</th>\n",
       "      <td>0.888</td>\n",
       "      <td>0.899</td>\n",
       "      <td>0.893</td>\n",
       "    </tr>\n",
       "    <tr>\n",
       "      <th>roc_auc</th>\n",
       "      <td>0.958</td>\n",
       "      <td>0.814</td>\n",
       "      <td>0.944</td>\n",
       "    </tr>\n",
       "    <tr>\n",
       "      <th>pr_auc</th>\n",
       "      <td>0.997</td>\n",
       "      <td>0.989</td>\n",
       "      <td>0.997</td>\n",
       "    </tr>\n",
       "  </tbody>\n",
       "</table>\n",
       "</div>"
      ],
      "text/plain": [
       "           train  valid  tests\n",
       "accuracy   0.812  0.822  0.814\n",
       "recall     0.801  0.827  0.813\n",
       "precision  0.997  0.985  0.991\n",
       "f1         0.888  0.899  0.893\n",
       "roc_auc    0.958  0.814  0.944\n",
       "pr_auc     0.997  0.989  0.997"
      ]
     },
     "metadata": {},
     "output_type": "display_data"
    },
    {
     "data": {
      "text/markdown": [
       "### tox21"
      ],
      "text/plain": [
       "<IPython.core.display.Markdown object>"
      ]
     },
     "metadata": {},
     "output_type": "display_data"
    },
    {
     "name": "stdout",
     "output_type": "stream",
     "text": [
      "training.\n",
      "class weights: [0.56713013 4.22411003]\n"
     ]
    },
    {
     "data": {
      "text/html": [
       "<div>\n",
       "<style scoped>\n",
       "    .dataframe tbody tr th:only-of-type {\n",
       "        vertical-align: middle;\n",
       "    }\n",
       "\n",
       "    .dataframe tbody tr th {\n",
       "        vertical-align: top;\n",
       "    }\n",
       "\n",
       "    .dataframe thead th {\n",
       "        text-align: right;\n",
       "    }\n",
       "</style>\n",
       "<table border=\"1\" class=\"dataframe\">\n",
       "  <thead>\n",
       "    <tr style=\"text-align: right;\">\n",
       "      <th></th>\n",
       "      <th>train</th>\n",
       "      <th>valid</th>\n",
       "      <th>tests</th>\n",
       "    </tr>\n",
       "  </thead>\n",
       "  <tbody>\n",
       "    <tr>\n",
       "      <th>accuracy</th>\n",
       "      <td>0.868</td>\n",
       "      <td>0.858</td>\n",
       "      <td>0.861</td>\n",
       "    </tr>\n",
       "    <tr>\n",
       "      <th>recall</th>\n",
       "      <td>0.930</td>\n",
       "      <td>0.810</td>\n",
       "      <td>0.789</td>\n",
       "    </tr>\n",
       "    <tr>\n",
       "      <th>precision</th>\n",
       "      <td>0.472</td>\n",
       "      <td>0.430</td>\n",
       "      <td>0.438</td>\n",
       "    </tr>\n",
       "    <tr>\n",
       "      <th>f1</th>\n",
       "      <td>0.626</td>\n",
       "      <td>0.561</td>\n",
       "      <td>0.563</td>\n",
       "    </tr>\n",
       "    <tr>\n",
       "      <th>roc_auc</th>\n",
       "      <td>0.959</td>\n",
       "      <td>0.911</td>\n",
       "      <td>0.881</td>\n",
       "    </tr>\n",
       "    <tr>\n",
       "      <th>pr_auc</th>\n",
       "      <td>0.796</td>\n",
       "      <td>0.552</td>\n",
       "      <td>0.599</td>\n",
       "    </tr>\n",
       "  </tbody>\n",
       "</table>\n",
       "</div>"
      ],
      "text/plain": [
       "           train  valid  tests\n",
       "accuracy   0.868  0.858  0.861\n",
       "recall     0.930  0.810  0.789\n",
       "precision  0.472  0.430  0.438\n",
       "f1         0.626  0.561  0.563\n",
       "roc_auc    0.959  0.911  0.881\n",
       "pr_auc     0.796  0.552  0.599"
      ]
     },
     "metadata": {},
     "output_type": "display_data"
    }
   ],
   "source": [
    "from IPython.display import Markdown, display\n",
    "\n",
    "models = {}\n",
    "results = {}\n",
    "\n",
    "print()\n",
    "for dataset_name, data in datasets.items():\n",
    "    \n",
    "    df_train, df_valid, df_tests = prepare_dataset(data)\n",
    "\n",
    "    display(Markdown(f\"### {dataset_name}\"))\n",
    "    print(flush=True, end=\"\")\n",
    "    print(\"training.\")\n",
    "\n",
    "    class_weights = compute_class_weight(class_weight='balanced', classes=np.unique(df_train.y), y=df_train.y)\n",
    "    print(\"class weights:\", class_weights)\n",
    "\n",
    "    model = CatBoostClassifier(\n",
    "        task_type=\"GPU\",\n",
    "        loss_function=\"Logloss\",\n",
    "        class_weights=class_weights,\n",
    "        random_seed=42,\n",
    "    )\n",
    "\n",
    "    model.fit(\n",
    "        np.stack(df_train.x),\n",
    "        np.stack(df_train.y.to_numpy()),\n",
    "        eval_set=(df_valid.x, df_valid.y),\n",
    "        use_best_model=True,\n",
    "        verbose=False\n",
    "    )\n",
    "\n",
    "    models[dataset_name] = model\n",
    "\n",
    "    threshold = 0.5\n",
    "\n",
    "    results[dataset_name] = pd.DataFrame({\n",
    "        \"train\": compute_metrics(model, df_train, threshold),\n",
    "        \"valid\": compute_metrics(model, df_valid, threshold),\n",
    "        \"tests\": compute_metrics(model, df_tests, threshold),\n",
    "    })\n",
    "\n",
    "    display(results[dataset_name].round(3))\n",
    "    "
   ]
  },
  {
   "cell_type": "code",
   "execution_count": null,
   "metadata": {},
   "outputs": [],
   "source": []
  }
 ],
 "metadata": {
  "interpreter": {
   "hash": "c9f08be5589580e9c5badc25468cc3d1293b3aa229fd1721f5718afcd9fb2e5a"
  },
  "kernelspec": {
   "display_name": "Python 3.8.13 ('graph-ml')",
   "language": "python",
   "name": "python3"
  },
  "language_info": {
   "codemirror_mode": {
    "name": "ipython",
    "version": 3
   },
   "file_extension": ".py",
   "mimetype": "text/x-python",
   "name": "python",
   "nbconvert_exporter": "python",
   "pygments_lexer": "ipython3",
   "version": "3.8.13"
  },
  "orig_nbformat": 4
 },
 "nbformat": 4,
 "nbformat_minor": 2
}
